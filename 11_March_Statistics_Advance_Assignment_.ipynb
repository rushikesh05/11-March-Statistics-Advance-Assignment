{
  "nbformat": 4,
  "nbformat_minor": 0,
  "metadata": {
    "colab": {
      "provenance": []
    },
    "kernelspec": {
      "name": "python3",
      "display_name": "Python 3"
    },
    "language_info": {
      "name": "python"
    }
  },
  "cells": [
    {
      "cell_type": "markdown",
      "source": [
        "\n",
        "##Q1: What is the difference between a t-test and a z-test? Provide an example scenario where you would use each type of test.\n",
        "\n",
        "* A t-test and a z-test are both statistical tests used to draw conclusions about population parameters based on sample data. However, they differ in their assumptions and the type of data they can be used with.\n",
        "\n",
        "* A t-test is used when the sample size is small, and the population standard deviation is unknown. here   For example, if I want to test whether the mean test score of a sample of 20 students is different from the population mean score, I would use a t-test because the population standard deviation is unknown.\n",
        "\n",
        "* On the other hand, a z-test is used when the sample size is large, and the population standard deviation is known or assumed to be known. For instance, if I want to test whether the mean height of a sample of 100 people is significantly different from the population mean height, I would use a z-test because the sample size is large, and the population standard deviation is either known or assumed to be known.\n",
        "\n",
        "###In summary, the choice between a t-test and a z-test depends on the sample size, the type of data, and whether the population standard deviation is known or unknown."
      ],
      "metadata": {
        "id": "q4yUFBCYhaXe"
      }
    },
    {
      "cell_type": "markdown",
      "source": [
        "##Q2: Differentiate between one-tailed and two-tailed tests.\n",
        "\n",
        "* In hypothesis testing, a one-tailed test is when we have a specific hypothesis about the direction of the relationship between variables. For example, if we want to test whether a new medication is better than an existing medication, we might use a one-tailed test and only look at whether the new medication is better. The critical region is located on one side of the distribution, depending on the direction of the hypothesis.\n",
        "\n",
        "* On the other hand, a two-tailed test is when we have no specific hypothesis about the direction of the relationship between variables. For example, if we want to test whether there is a difference in the mean test scores between two groups, we might use a two-tailed test because we are interested in whether the scores are either significantly higher or lower in one group compared to the other. The critical region is located on both sides of the distribution.\n",
        "\n",
        "###To summarize, the main difference between one-tailed and two-tailed tests is that a one-tailed test is used when we have a specific hypothesis about the direction of the relationship between variables, and the critical region is located on one side of the distribution. A two-tailed test is used when we have no specific hypothesis about the direction of the relationship between variables, and the critical region is located on both sides of the distribution."
      ],
      "metadata": {
        "id": "DJF2-5y9iESh"
      }
    },
    {
      "cell_type": "markdown",
      "source": [
        "##Q3: Explain the concept of Type 1 and Type 2 errors in hypothesis testing. Provide an example scenario for each type of error.\n",
        "\n",
        "* Type 1 error is also known as a false positive. It occurs when we reject the null hypothesis even though it is actually true. This happens when we set the significance level too high. For example, if we set the significance level at 0.1, there is a 10% chance of making a Type 1 error. A classic example of a Type 1 error is a medical test that gives a positive result when the patient is actually healthy, leading to unnecessary treatment.\n",
        "\n",
        "* Type 2 error is also known as a false negative. It occurs when we fail to reject the null hypothesis even though it is actually false. This happens when we set the significance level too low or when the sample size is too small. For example, if we set the significance level at 0.1, there is a 90% chance of making a Type 2 error. A classic example of a Type 2 error is a medical test that gives a negative result when the patient actually has the disease, leading to a failure to treat the condition.\n",
        "\n",
        "###In summary, a Type 1 error is a false positive, where we reject the null hypothesis when it's actually true, while a Type 2 error is a false negative, where we fail to reject the null hypothesis when it's actually false. An example scenario of a Type 1 error is a medical test that gives a false positive result, while an example scenario of a Type 2 error is a medical test that gives a false negative result."
      ],
      "metadata": {
        "id": "fBYDWK5bia5i"
      }
    },
    {
      "cell_type": "markdown",
      "source": [
        "##Q4: Explain Bayes's theorem with an example.\n",
        "\n",
        "* Bayes's theorem is a way to update our beliefs about the probability of an event based on new information or evidence. It helps us to calculate the probability of an event given the occurrence of another event.\n",
        "\n",
        "###For example, let's say we have a bag with 10 red balls and 5 blue balls. We draw a ball at random from the bag, and we want to know the probability that the ball is red. This is the prior probability, and it is equal to 10/15 or 0.67.\n",
        "\n",
        "###Now, let's suppose we draw another ball from the same bag, but this time we know that the ball is blue. This is new evidence. Using Bayes's theorem, we can update our belief about the probability of the ball being red.\n",
        "\n",
        "###We can start by calculating the probability of getting a blue ball from the bag, which is 5/15 or 0.33. The probability of getting a red ball is still 10/15 or 0.67. The probability of getting a blue ball given that the ball is red is 0, while the probability of getting a blue ball given that the ball is blue is 1.\n",
        "\n",
        "###Putting this information into Bayes's theorem, we get:\n",
        "\n",
        "    P(Red|Blue) = P(Blue|Red) * P(Red) / P(Blue)\n",
        "\n",
        "    P(Red|Blue) = 0 * 0.67 / 0.33\n",
        "\n",
        "    P(Red|Blue) = 0\n",
        "\n",
        "* This means that given the new evidence that we drew a blue ball, the probability of the ball being red is now 0. Our belief about the probability of the ball being red has been updated based on the new evidence, and we can now say with certainty that the ball is blue.\n",
        "\n",
        "###So, Bayes's theorem allows us to update our belief about the probability of an event based on new evidence or information. It helps us to make more informed decisions by taking into account all available information."
      ],
      "metadata": {
        "id": "zusi8FlvjQ9C"
      }
    },
    {
      "cell_type": "markdown",
      "source": [
        "##Q5: What is a confidence interval? How to calculate the confidence interval, explain with an example.\n",
        "\n",
        "###A confidence interval is a range of values that is likely to contain the true population parameter with a specified degree of confidence. It is an estimation of the range of values that the population parameter might take based on a sample of data.\n",
        "\n",
        "###To calculate a confidence interval, you need to determine the sample size, sample mean, sample standard deviation, and the level of confidence desired. The level of confidence is usually set at 95%, meaning that there is a 95% probability that the true population parameter lies within the calculated confidence interval.\n",
        "\n",
        "###The formula to calculate the confidence interval is as follows:\n",
        "\n",
        "    Confidence Interval = Sample Mean ± (Z-score * Standard Error)\n",
        "\n",
        "###Where:\n",
        "\n",
        "    Z-score is the critical value from the standard normal distribution corresponding to the desired level of confidence. \n",
        "    For example, if you want a 95% confidence interval, the Z-score is 1.96.\n",
        "\n",
        "###Standard Error is the standard deviation of the sample divided by the square root of the sample size.\n",
        "\n",
        "###Here is an example of calculating a confidence interval:\n",
        "\n",
        "###Suppose you want to estimate the average height of students in a particular school. You take a sample of 50 students and measure their heights. The sample mean height is 68 inches, and the sample standard deviation is 2 inches.\n",
        "\n",
        "###You want to calculate a 95% confidence interval for the true population mean height.\n",
        "\n",
        "* First, you need to determine the Z-score corresponding to a 95% confidence level. The Z-score for a 95% confidence level is 1.96.\n",
        "\n",
        "###Next, you need to calculate the standard error:\n",
        "\n",
        "    Standard Error = Sample Standard Deviation / Square Root of Sample Size\n",
        "    = 2 / sqrt(50)\n",
        "    = 0.2828\n",
        "\n",
        "###Now you can calculate the confidence interval:\n",
        "\n",
        "    Confidence Interval = Sample Mean ± (Z-score * Standard Error)\n",
        "     = 68 ± (1.96 * 0.2828)\n",
        "     = (67.4432, 68.5568)\n",
        "\n",
        "###Therefore, you can be 95% confident that the true population mean height falls between 67.4432 inches and 68.5568 inches."
      ],
      "metadata": {
        "id": "w9hUzUlNl2th"
      }
    },
    {
      "cell_type": "markdown",
      "source": [
        "##Q6. Use Bayes' Theorem to calculate the probability of an event occurring given prior knowledge of the event's probability and new evidence. Provide a sample problem and solution.\n",
        "\n",
        "#Ans:-----\n",
        "###Bayes' Theorem is a mathematical formula used to calculate the probability of an event occurring given prior knowledge of the event's probability and new evidence. It provides a way to update the probability of an event based on new information.\n",
        "\n",
        "###To use Bayes' Theorem, we need to define two events, A and B. We know the prior probability of event A, P(A), and the conditional probability of event B given A, P(B|A). We also need to know the conditional probability of event B given not A, P(B|not A). With these probabilities, we can calculate the conditional probability of A given B, P(A|B), using the following formula:\n",
        "\n",
        "    P(A|B) = P(B|A) * P(A) / P(B)\n",
        "\n",
        "###Let me give you an example problem to illustrate how to use Bayes' Theorem:\n",
        "\n",
        "###Suppose a company has a product defect rate of 2%. The company uses a quality control process that correctly identifies 90% of defective products and incorrectly identifies 5% of non-defective products as defective. If a product is identified as defective, what is the probability that it is actually defective?\n",
        "\n",
        "###We can use Bayes' Theorem to calculate the probability that a product is defective given that it was identified as defective. Here, event A is \"the product is defective\" and event B is \"the product is identified as defective.\"\n",
        "\n",
        "###We know that P(A) = 0.02 and P(B|A) = 0.9, and P(B|not A) = 0.05. We want to find P(A|B), the probability that the product is defective given that it was identified as defective.\n",
        "\n",
        "###First, we need to calculate the prior probability of event B:\n",
        "\n",
        "    P(B) = P(B|A) * P(A) + P(B|not A) * P(not A)\n",
        "     = 0.9 * 0.02 + 0.05 * 0.98\n",
        "     = 0.0576\n",
        "\n",
        "###Next, we can use Bayes' Theorem to calculate the conditional probability of A given B:\n",
        "\n",
        "    P(A|B) = P(B|A) * P(A) / P(B)\n",
        "     = 0.9 * 0.02 / 0.0576\n",
        "     = 0.3125\n",
        "\n",
        "###Therefore, the probability that a product is defective given that it was identified as defective is 31.25%. This means that there is a relatively high probability that a product is defective if it was identified as defective by the quality control process."
      ],
      "metadata": {
        "id": "8lobBnCdn9Kp"
      }
    },
    {
      "cell_type": "markdown",
      "source": [
        "##Q7. Calculate the 95% confidence interval for a sample of data with a mean of 50 and a standard deviation of 5. Interpret the results.\n",
        "\n",
        "\n",
        "###To calculate the 95% confidence interval for a sample of data with a mean of 50 and a standard deviation of 5, we can use the following formula:\n",
        "\n",
        "        CI = x̄ ± z* (s/√n)\n",
        "\n",
        "###Where:\n",
        "\n",
        "     x̄ is the sample mean (50 in this case)\n",
        "     s is the sample standard deviation (5 in this case)\n",
        "     n is the sample size\n",
        "     z* is the critical value for the desired confidence level (95% in this case)\n",
        "\n",
        "###To find the critical value, we can look it up in a standard normal distribution table or use a calculator. For a 95% confidence level, the critical value is 1.96.\n",
        "\n",
        "###Assuming a large sample size (n>30), we can use this formula to calculate the confidence interval:\n",
        "\n",
        "     CI = 50 ± 1.96 * (5/√n)\n",
        "\n",
        "#Interpretation:\n",
        "\n",
        "###The 95% confidence interval for the sample mean is the range of values that we can be 95% confident contains the true population mean. In this case, the confidence interval is calculated to be 50 ± 1.96 * (5/√n). The lower bound of the interval is 50 - 1.96 * (5/√n) and the upper bound is 50 + 1.96 * (5/√n).\n",
        "\n",
        "###For example, if we have a sample size of 100, the confidence interval would be:\n",
        "\n",
        "     CI = 50 ± 1.96 * (5/√100) = 50 ± 0.98\n",
        "\n",
        "###Therefore, the 95% confidence interval would be (49.02, 50.98). This means that we can be 95% confident that the true population mean falls between 49.02 and 50.98. If we took repeated samples and calculated the confidence interval for each sample, 95% of the intervals would contain the true population mean."
      ],
      "metadata": {
        "id": "Ts58-9LRshnN"
      }
    },
    {
      "cell_type": "markdown",
      "source": [
        "##Q8. What is the margin of error in a confidence interval? How does sample size affect the margin of error? Provide an example of a scenario where a larger sample size would result in a smaller margin of error.\n",
        "\n",
        "* The margin of error in a confidence interval is the measure of the precision of the estimate. It is the amount of error that we allow for in the confidence interval and is usually expressed as a percentage. The margin of error depends on the level of confidence desired, the sample size, and the standard deviation of the population. As the level of confidence increases, the margin of error also increases. Conversely, as the sample size increases, the margin of error decreases.\n",
        "\n",
        "* Sample size affects the margin of error because a larger sample size results in a smaller margin of error. This is because it reduces the amount of sampling error, which is the error that occurs due to the sample not being a perfectly representative subset of the population. As the sample size increases, the sample statistic (such as the sample mean) is likely to be closer to the true population parameter, resulting in a smaller margin of error.\n",
        "\n",
        "* For example, let's say we want to estimate the average height of all adults in a city. We take a sample of 100 people and calculate the sample mean height to be 170 cm with a standard deviation of 10 cm. If we want to construct a 95% confidence interval for the population mean height, we would use the formula Margin of error = z * (standard deviation / square root of sample size), where z is the critical value from the standard normal distribution table for a 95% confidence level, which is approximately 1.96.\n",
        "\n",
        "* Using this formula, we calculate the margin of error to be 1.96 cm. This means that we can be 95% confident that the true population mean height falls within the range of 168.04 cm to 171.96 cm (calculated as the sample mean plus or minus the margin of error).\n",
        "\n",
        "* Now, suppose we increase the sample size to 400. If we calculate the margin of error using the same formula, we get a margin of error of 0.98 cm. This means that with a larger sample size, we can be more precise in our estimate of the population mean height. The margin of error is smaller, which means that the range of the confidence interval is narrower, and we can be more confident in our estimate."
      ],
      "metadata": {
        "id": "yI8sqs66s9Mc"
      }
    },
    {
      "cell_type": "markdown",
      "source": [
        "##Q9. Calculate the z-score for a data point with a value of 75, a population mean of 70, and a population standard deviation of 5. Interpret the results.\n",
        "#Ans:-\n",
        "###  To calculate the z-score for a data point with a value of 75, a population mean of 70, and a population standard deviation of 5, we use the formula:\n",
        "\n",
        "    z = (x - μ) / σ\n",
        "\n",
        "###where x is the value of the data point, μ is the population mean, and σ is the population standard deviation.\n",
        "\n",
        "###Substituting the values given, we get:\n",
        "\n",
        "    z = (75 - 70) / 5\n",
        "\n",
        "      z = 1\n",
        " \n",
        "###The z-score for this data point is 1.\n",
        "\n",
        "###Interpreting the result, we can say that the data point of 75 is one standard deviation above the population mean of 70. This means that the data point is above average relative to the population distribution. The z-score of 1 also tells us that the data point is not extremely unusual or rare, but it is still above average. Z-scores allow us to standardize data and compare them on the same scale, which is useful for comparing data points from different populations.\n"
      ],
      "metadata": {
        "id": "DCuCXxeUuUuS"
      }
    },
    {
      "cell_type": "markdown",
      "source": [
        "##Q10. In a study of the effectiveness of a new weight loss drug, a sample of 50 participants lost an average of 6 pounds with a standard deviation of 2.5 pounds. Conduct a hypothesis test to determine if the drug is significantly effective at a 95% confidence level using a t-test.\n",
        "\n",
        "###To conduct a hypothesis test to determine if the weight loss drug is significantly effective at a 95% confidence level using a t-test, we need to set up the null and alternative hypotheses, determine the test statistic and critical values, and calculate the p-value.\n",
        "\n",
        "* Null hypothesis: The weight loss drug is not significantly effective, and the true population mean weight loss is equal to or less than 0 pounds.\n",
        "* Alternative hypothesis: The weight loss drug is significantly effective, and the true population mean weight loss is greater than 0 pounds.\n",
        "\n",
        "###We will use a one-tailed t-test, with a significance level of 0.05 and degrees of freedom of n-1 = 49. The test statistic is calculated as:\n",
        "\n",
        "     t = (x̄ - μ) / (s / √n)\n",
        " \n",
        "###where \n",
        "     x̄ is the sample mean weight loss,\n",
        "     μ is the hypothesized population mean weight loss (0 pounds), \n",
        "     s is the sample standard deviation, and n is the sample size.\n",
        "\n",
        "###Substituting the values given, we get:\n",
        "\n",
        "     t = (6 - 0) / (2.5 / √50)\n",
        "     t = 15.48\n",
        "\n",
        "###The critical value for a one-tailed t-test with 49 degrees of freedom and a significance level of 0.05 is 1.676. Since our test statistic of 15.48 is greater than the critical value of 1.676, we reject the null hypothesis.\n",
        "\n",
        "###To calculate the p-value, we can use a t-distribution table or a calculator. The p-value is the probability of getting a t-value as extreme or more extreme than the observed value, assuming the null hypothesis is true. In this case, the p-value is less than 0.001, which is much smaller than the significance level of 0.05. Therefore, we can conclude that the weight loss drug is significantly effective at a 95% confidence level.\n",
        "\n",
        "###In conclusion, based on the results of the hypothesis test, we can reject the null hypothesis and accept the alternative hypothesis that the weight loss drug is significantly effective at a 95% confidence level. The sample of 50 participants lost an average of 6 pounds with a standard deviation of 2.5 pounds, which provides strong evidence that the drug is effective in promoting weight loss."
      ],
      "metadata": {
        "id": "iTsLWzTtvCM6"
      }
    },
    {
      "cell_type": "markdown",
      "source": [
        "##Q11. In a survey of 500 people, 65% reported being satisfied with their current job. Calculate the 95% confidence interval for the true proportion of people who are satisfied with their job.\n",
        "\n",
        "#Ans:--\n",
        "\n",
        "###To calculate the 95% confidence interval for the true proportion of people who are satisfied with their job, we need to use the formula:\n",
        "\n",
        "     confidence interval = sample proportion ± z-score * standard error\n",
        "\n",
        "###where \n",
        "     the sample proportion is the proportion of people in the sample who are satisfied with their job,\n",
        "      the z-score is the critical value from the standard normal distribution corresponding to a 95% confidence level (which is approximately 1.96), \n",
        "      and the standard error is the standard deviation of the sampling distribution of the sample proportion.\n",
        "\n",
        "###First, we can calculate the sample proportion using the formula:\n",
        "\n",
        "     sample proportion = number of people satisfied / sample size = 0.65\n",
        "\n",
        "###Next, we need to calculate the standard error using the formula:\n",
        "\n",
        "     standard error = sqrt[(sample proportion * (1 - sample proportion)) / sample size] = sqrt[(0.65 * 0.35) / 500] = 0.032\n",
        "\n",
        "###Finally, we can plug in the values and calculate the confidence interval:\n",
        "\n",
        "    confidence interval = 0.65 ± 1.96 * 0.032 = (0.588, 0.712)\n",
        "\n",
        "###Interpreting the results, we can say that we are 95% confident that the true proportion of people who are satisfied with their job falls between 0.588 and 0.712.\n",
        "\n",
        "\n",
        "\n"
      ],
      "metadata": {
        "id": "Qhvo9fP-wdlV"
      }
    },
    {
      "cell_type": "markdown",
      "source": [
        "##Q12. A researcher is testing the effectiveness of two different teaching methods on student performance.Sample A has a mean score of 85 with a standard deviation of 6, while sample B has a mean score of 82 with a standard deviation of 5. Conduct a hypothesis test to determine if the two teaching methods have a significant difference in student performance using a t-test with a significance level of 0.01.\n",
        "\n",
        "#Ans:---\n",
        "\n",
        "###To conduct a hypothesis test to determine if the two teaching methods have a significant difference in student performance, we can use a two-sample t-test. The null hypothesis is that there is no significant difference between the two teaching methods, while the alternative hypothesis is that there is a significant difference between the two teaching methods.\n",
        "\n",
        "###The t-test formula is:\n",
        "\n",
        "    t = (meanA - meanB) / (sqrt[(s^2A / nA) + (s^2B / nB)])\n",
        "\n",
        "###where \n",
        "    meanA and meanB are the sample means, \n",
        "    sA and sB are the sample standard deviations,\n",
        "    nA and nB are the sample sizes, \n",
        "    and the denominator is the standard error of the difference between the means.\n",
        "\n",
        "###Using the given information, we have:\n",
        "\n",
        "    meanA = 85\n",
        "    sA = 6\n",
        "    nA = ?\n",
        "    meanB = 82\n",
        "    sB = 5\n",
        "    nB = ?\n",
        "    α = 0.01\n",
        "    Degrees of freedom = (nA + nB - 2)\n",
        "\n",
        "\n",
        "###Unfortunately, we cannot conduct the hypothesis test because the sample sizes of the two groups are not given. The t-test formula requires the sample sizes to calculate the degrees of freedom and the t-value. Without this information, we cannot determine if the two teaching methods have a significant difference in student performance."
      ],
      "metadata": {
        "id": "TPp_zszYxa5i"
      }
    },
    {
      "cell_type": "markdown",
      "source": [
        "###Q13. A population has a mean of 60 and a standard deviation of 8. A sample of 50 observations has a mean of 65. Calculate the 90% confidence interval for the true population mean.\n",
        "\n",
        "###To calculate the 90% confidence interval for the true population mean, we can use the formula:\n",
        "\n",
        "    confidence interval = sample mean ± z-score * (standard deviation / sqrt(sample size))\n",
        "\n",
        "###where \n",
        "    the sample mean is the mean of the sample observations, \n",
        "    the z-score is the critical value from the standard normal distribution corresponding to a 90% confidence level (which is approximately 1.645), \n",
        "    the standard deviation is the population standard deviation, and the sample size is the size of the sample.\n",
        "\n",
        "###Plugging in the given values, we have:\n",
        "\n",
        "     confidence interval = 65 ± 1.645 * (8 / sqrt(50))\n",
        "\n",
        "###Simplifying the expression, we get:\n",
        "\n",
        "     confidence interval = (62.18, 67.82)\n",
        "\n",
        "###Interpreting the results, we can say that we are 90% confident that the true population mean falls between 62.18 and 67.82."
      ],
      "metadata": {
        "id": "jGyarFN_ycb7"
      }
    },
    {
      "cell_type": "markdown",
      "source": [
        "##Q14. In a study of the effects of caffeine on reaction time, a sample of 30 participants had an average reaction time of 0.25 seconds with a standard deviation of 0.05 seconds. Conduct a hypothesis test to determine if the caffeine has a significant effect on reaction time at a 90% confidence level using a t-test.\n",
        "#Asn:---\n",
        "\n",
        "\n",
        "###To conduct a hypothesis test to determine if caffeine has a significant effect on reaction time, we can use a one-sample t-test. The null hypothesis is that there is no significant difference in reaction time with caffeine, while the alternative hypothesis is that there is a significant difference in reaction time with caffeine.\n",
        "\n",
        "###The t-test formula is:\n",
        "\n",
        "    t = (sample mean - hypothesized mean) / (sample standard deviation / sqrt(sample size))\n",
        "\n",
        "###where \n",
        "    the sample mean is the mean of the sample observations, \n",
        "    the hypothesized mean is the mean reaction time without caffeine (which is usually zero), \n",
        "    the sample standard deviation is the standard deviation of the sample observations, \n",
        "    and the sample size is the size of the sample.\n",
        "\n",
        "###Using the given information, we have:\n",
        "\n",
        "    sample mean = 0.25\n",
        "    hypothesized mean = 0\n",
        "    sample standard deviation = 0.05\n",
        "    sample size = 30\n",
        "    α = 0.1\n",
        "    Degrees of freedom = (sample size - 1)\n",
        "\n",
        "###The t-value can be calculated using the t-distribution table or a statistical software, which is approximately 5.06 for a one-tailed test with 29 degrees of freedom and a significance level of 0.1.\n",
        "\n",
        "###Using the t-value and the formula for the confidence interval, we can calculate the confidence interval for the true population mean:\n",
        "\n",
        "    confidence interval = sample mean ± t-value * (sample standard deviation / sqrt(sample size))\n",
        "\n",
        "    confidence interval = 0.25 ± 5.06 * (0.05 / sqrt(30))\n",
        "\n",
        "    confidence interval = (0.21, 0.29)\n",
        "\n",
        "###Interpreting the results, we can say that we are 90% confident that the true population mean reaction time with caffeine falls between 0.21 and 0.29 seconds. Since the confidence interval does not include zero, we can reject the null hypothesis and conclude that caffeine has a significant effect on reaction time at a 90% confidence level."
      ],
      "metadata": {
        "id": "ghNm5WVWy_PI"
      }
    },
    {
      "cell_type": "code",
      "execution_count": null,
      "metadata": {
        "id": "AV7gj9BthLOG"
      },
      "outputs": [],
      "source": []
    }
  ]
}